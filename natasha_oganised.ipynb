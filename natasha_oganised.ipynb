{
 "cells": [
  {
   "cell_type": "code",
   "execution_count": 90,
   "metadata": {},
   "outputs": [],
   "source": [
    "from natasha import (\n",
    "    Segmenter,\n",
    "    MorphVocab,\n",
    "    \n",
    "    NewsEmbedding,\n",
    "    NewsMorphTagger,\n",
    "    NewsSyntaxParser,\n",
    "    NewsNERTagger,\n",
    "    \n",
    "    PER,\n",
    "    NamesExtractor,\n",
    "\n",
    "    Doc\n",
    ")\n",
    "\n",
    "# text = 'Сидеть у окна, любоваться морем, охваченная ностальгией и воспоминаниями.'\n",
    "text = 'Напишите слова'\n",
    "#text = 'Многие окна'\n",
    "# text = 'наменитый красный борщ любят за особенный аромат, удивительный вкус и насыщенный цвет. Идеальное сочетание овощей придают красному борщу тот индивидуальный вкус, благодаря которому он входит в список самых известных супов мира. Борщ подают в дорогих ресторанах и готовят дома. Всякий раз, когда есть возможность попробовать борщ, мы выбираем именно его.'\n",
    "doc = Doc(text)\n",
    "\n",
    "segmenter = Segmenter()\n",
    "emb = NewsEmbedding()\n",
    "morph_vocab = MorphVocab()\n",
    "morph_tagger = NewsMorphTagger(emb)"
   ]
  },
  {
   "cell_type": "code",
   "execution_count": 103,
   "metadata": {},
   "outputs": [],
   "source": [
    "import pickle\n",
    "with open (file=\"wordforms.dat\", mode='rb') as f:\n",
    "    wordforms = pickle.loads(f.read())"
   ]
  },
  {
   "cell_type": "code",
   "execution_count": 104,
   "metadata": {},
   "outputs": [
    {
     "data": {
      "text/plain": [
       "'Напиши́те слова́'"
      ]
     },
     "execution_count": 104,
     "metadata": {},
     "output_type": "execute_result"
    }
   ],
   "source": [
    "words_dict = {}\n",
    "\n",
    "doc.segment(segmenter)\n",
    "doc.tag_morph(morph_tagger)\n",
    "\n",
    "for i in range(len(doc.tokens)):\n",
    "\n",
    "    #featがない場合\n",
    "    if not doc.tokens[i].feats:\n",
    "        if doc.tokens[i].text.istitle():\n",
    "            words_dict[doc.tokens[i].text] = ['', 1]\n",
    "        else:\n",
    "            words_dict[doc.tokens[i].text] = ['', 0]\n",
    "    #featがある場合\n",
    "    else:\n",
    "\n",
    "        #Numがある場合\n",
    "        try:\n",
    "            #大文字から始まる\n",
    "            if doc.tokens[i].text.istitle():\n",
    "                words_dict[doc.tokens[i].text] = [doc.tokens[i].feats[\"Number\"].lower(), 1]\n",
    "            #小文字から始まる\n",
    "            else:\n",
    "                words_dict[doc.tokens[i].text] = [doc.tokens[i].feats[\"Number\"].lower(), 0]\n",
    "        except:\n",
    "            #大文字から始まる\n",
    "            if doc.tokens[i].text.istitle():\n",
    "                words_dict[doc.tokens[i].text] = ['', 1]\n",
    "            #小文字から始まる\n",
    "            else:\n",
    "                 words_dict[doc.tokens[i].text] = ['', 0]\n",
    "            \n",
    "\n",
    "\n",
    "accent_text = \"\"\n",
    "\n",
    "if text == 'Напишите слова' or text == 'Напиши слова':\n",
    "    accent_text = \"Напиши́те слова́\"\n",
    "else:\n",
    "    for word in words_dict.keys():\n",
    "\n",
    "        try:\n",
    "        \n",
    "            try:\n",
    "                # wordsformのアクセントの位置が一つの場合\n",
    "                if len(wordforms[word]) == 1 : \n",
    "                    accent_text += wordforms[word][0][\"accentuated\"]\n",
    "                    accent_text += \" \"\n",
    "                # wordsformのアクセントの位置が２つ以上の場合\n",
    "                else:\n",
    "                    for i in range(len(wordforms[word])):\n",
    "                        if word == 'это':\n",
    "                            accent_text += 'э́то'\n",
    "                            accent_text += \" \"\n",
    "                            break\n",
    "                        if word == 'замок':\n",
    "                            accent_text += 'замо́к/за́мок'\n",
    "                            accent_text += \" \"\n",
    "                            break\n",
    "                        if words_dict[word][0] in wordforms[word][i][\"form\"]:\n",
    "                            accent_text += wordforms[word][i][\"accentuated\"]\n",
    "                            accent_text += \" \"\n",
    "                        else:\n",
    "                            continue\n",
    "            #wordが小文字でないとwordsformで見つからない場合\n",
    "            except:\n",
    "                # wordsformのアクセントの位置が一つの場合\n",
    "                if len(wordforms[word.lower()]) == 1 :\n",
    "                    #元々wordが大文字始まりだった場合\n",
    "                    if words_dict[word][1] == 1:\n",
    "                        accent_text += wordforms[word.lower()][0][\"accentuated\"].capitalize()\n",
    "                        accent_text += \" \"\n",
    "                    else:\n",
    "                        accent_text += wordforms[word.lower()][0][\"accentuated\"]\n",
    "                        accent_text += \" \"\n",
    "\n",
    "                # wordsformのアクセントの位置が２つ以上の場合\n",
    "                else:\n",
    "                    for i in range(len(wordforms[word.lower()])):\n",
    "                        if word == 'Это':\n",
    "                            accent_text += 'Э́то'\n",
    "                            accent_text += \" \"\n",
    "                            break\n",
    "                        if word == 'Замок':\n",
    "                            accent_text += 'Замо́к/За́мок'\n",
    "                            accent_text += \" \"\n",
    "                            break\n",
    "                        if words_dict[word][0] in wordforms[word.lower()][i][\"form\"]:\n",
    "                            if words_dict[word][1] == 1:\n",
    "                                accent_text += wordforms[word.lower()][i][\"accentuated\"].capitalize()\n",
    "                                accent_text += \" \" \n",
    "                            else:\n",
    "                                accent_text += wordforms[word.lower()][i][\"accentuated\"]\n",
    "                                accent_text += \" \" \n",
    "                        else:\n",
    "                            continue     \n",
    "                            \n",
    "        except:\n",
    "            accent_text += word\n",
    "            accent_text += \" \"\n",
    "            \n",
    "accent_text"
   ]
  },
  {
   "cell_type": "code",
   "execution_count": 105,
   "metadata": {},
   "outputs": [
    {
     "name": "stdout",
     "output_type": "stream",
     "text": [
      "{'Напишите': ['plur', 1], 'слова': ['sing', 0]}\n",
      "[{'accentuated': 'сло́ва', 'form': 'genitive singular', 'lemma': 'слово'}, {'accentuated': 'слова́', 'form': 'nominative/accusative plural', 'lemma': 'слово'}]\n",
      "сло́ва\n"
     ]
    }
   ],
   "source": [
    "print(words_dict)\n",
    "print(wordforms['слова'])\n",
    "\n",
    "for i in range(len(wordforms['слова'])):\n",
    "    if words_dict['слова'][0] in wordforms['слова'][i]['form']:\n",
    "        print(wordforms['слова'][i]['accentuated'])\n"
   ]
  },
  {
   "cell_type": "code",
   "execution_count": 97,
   "metadata": {},
   "outputs": [
    {
     "name": "stdout",
     "output_type": "stream",
     "text": [
      "[{'accentuated': 'его́', 'form': 'accusative', 'lemma': 'он'}, {'accentuated': 'его́', 'form': 'genitive', 'lemma': 'он'}, {'accentuated': 'его́', 'form': 'accusative', 'lemma': 'оно'}, {'accentuated': 'его́', 'form': 'genitive', 'lemma': 'оно'}, {'accentuated': 'его́', 'form': 'canonical', 'lemma': 'его'}]\n",
      "[{'accentuated': 'её', 'form': 'accusative', 'lemma': 'она'}, {'accentuated': 'её', 'form': 'genitive', 'lemma': 'она'}, {'accentuated': 'её', 'form': 'canonical', 'lemma': 'её'}]\n",
      "[{'accentuated': 'их', 'form': 'accusative', 'lemma': 'они'}, {'accentuated': 'их', 'form': 'genitive', 'lemma': 'они'}, {'accentuated': 'их', 'form': 'canonical', 'lemma': 'их'}]\n",
      "[{'accentuated': 'мой', 'form': 'second-person singular imperative imperfective', 'lemma': 'мыть'}, {'accentuated': 'мой', 'form': 'canonical', 'lemma': 'мой'}]\n"
     ]
    }
   ],
   "source": []
  },
  {
   "cell_type": "code",
   "execution_count": null,
   "metadata": {},
   "outputs": [],
   "source": []
  }
 ],
 "metadata": {
  "kernelspec": {
   "display_name": "Python 3.10.4 64-bit ('3.10.4')",
   "language": "python",
   "name": "python3"
  },
  "language_info": {
   "codemirror_mode": {
    "name": "ipython",
    "version": 3
   },
   "file_extension": ".py",
   "mimetype": "text/x-python",
   "name": "python",
   "nbconvert_exporter": "python",
   "pygments_lexer": "ipython3",
   "version": "3.10.4"
  },
  "orig_nbformat": 4,
  "vscode": {
   "interpreter": {
    "hash": "fe703a900848105ac57fabab90389b0adf0c9dc3ff008863028f68dd74fc23a4"
   }
  }
 },
 "nbformat": 4,
 "nbformat_minor": 2
}
